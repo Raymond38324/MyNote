{
 "cells": [
  {
   "cell_type": "markdown",
   "metadata": {},
   "source": [
    "## 队列"
   ]
  },
  {
   "cell_type": "code",
   "execution_count": 1,
   "metadata": {},
   "outputs": [],
   "source": [
    "import queue"
   ]
  },
  {
   "cell_type": "markdown",
   "metadata": {},
   "source": [
    "**分类**"
   ]
  },
  {
   "cell_type": "markdown",
   "metadata": {},
   "source": [
    "1. 先进先出"
   ]
  },
  {
   "cell_type": "code",
   "execution_count": 2,
   "metadata": {},
   "outputs": [],
   "source": [
    "q = queue.Queue()# 可选参数maxsize，队列中允许最大项数，省略则无大小限制。\n",
    "q.put('first') # python中一切皆对象，各种数据类型都能被放到队列中\n",
    "q.put(['second'])\n",
    "q.put({\"num\":\"third\"})"
   ]
  },
  {
   "cell_type": "code",
   "execution_count": 3,
   "metadata": {},
   "outputs": [
    {
     "name": "stdout",
     "output_type": "stream",
     "text": [
      "first\n",
      "['second']\n",
      "{'num': 'third'}\n"
     ]
    }
   ],
   "source": [
    "print(q.get())\n",
    "print(q.get())\n",
    "print(q.get())"
   ]
  },
  {
   "cell_type": "markdown",
   "metadata": {},
   "source": [
    "2. 后进先出(堆栈：last in fisrt out)"
   ]
  },
  {
   "cell_type": "code",
   "execution_count": 4,
   "metadata": {},
   "outputs": [],
   "source": [
    "q1 = queue.LifoQueue()\n",
    "q1.put(lambda x: x**2)\n",
    "\n",
    "\n",
    "class Foo:\n",
    "    def test(self):\n",
    "        print('in test')\n",
    "\n",
    "\n",
    "f = Foo()\n",
    "q1.put(f)\n",
    "q1.put(33)"
   ]
  },
  {
   "cell_type": "code",
   "execution_count": 5,
   "metadata": {},
   "outputs": [
    {
     "name": "stdout",
     "output_type": "stream",
     "text": [
      "33\n",
      "in test\n",
      "9\n"
     ]
    }
   ],
   "source": [
    "print(q1.get())\n",
    "q1.get().test()# q.get()获得f对象，调用f的test方法\n",
    "print(q1.get()(3)) # q.get()获得第一个放进去的lambda 函数，在这里直接调用了"
   ]
  },
  {
   "cell_type": "markdown",
   "metadata": {},
   "source": [
    "3. 优先级队列(存储数据时可设置优先级的队列)"
   ]
  },
  {
   "cell_type": "code",
   "execution_count": 6,
   "metadata": {},
   "outputs": [],
   "source": [
    "q2 = queue.PriorityQueue()\n",
    "q2.put((10,'c'))\n",
    "q2.put((20,'a'))\n",
    "q2.put((30,'b'))"
   ]
  },
  {
   "cell_type": "markdown",
   "metadata": {},
   "source": [
    "结果(数字越小优先级越高,优先级高的优先出队):"
   ]
  },
  {
   "cell_type": "code",
   "execution_count": 7,
   "metadata": {},
   "outputs": [
    {
     "name": "stdout",
     "output_type": "stream",
     "text": [
      "(10, 'c')\n",
      "(20, 'a')\n",
      "(30, 'b')\n"
     ]
    }
   ],
   "source": [
    "print(q2.get())\n",
    "print(q2.get())\n",
    "print(q2.get())"
   ]
  }
 ],
 "metadata": {
  "kernelspec": {
   "display_name": "Python 3",
   "language": "python",
   "name": "python3"
  },
  "language_info": {
   "codemirror_mode": {
    "name": "ipython",
    "version": 3
   },
   "file_extension": ".py",
   "mimetype": "text/x-python",
   "name": "python",
   "nbconvert_exporter": "python",
   "pygments_lexer": "ipython3",
   "version": "3.7.2"
  }
 },
 "nbformat": 4,
 "nbformat_minor": 2
}
