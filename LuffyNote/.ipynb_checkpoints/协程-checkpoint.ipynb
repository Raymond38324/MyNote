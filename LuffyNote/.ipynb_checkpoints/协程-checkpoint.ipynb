{
 "cells": [
  {
   "cell_type": "markdown",
   "metadata": {},
   "source": [
    "# 协程"
   ]
  },
  {
   "cell_type": "markdown",
   "metadata": {},
   "source": [
    "协程：是单线程下的并发，又称微线程，纤程。"
   ]
  },
  {
   "cell_type": "markdown",
   "metadata": {},
   "source": [
    "1. python的线程属于内核级别的，即由操作系统控制调度（如单线程遇到io或执行时间过长就会被迫交出cpu执行权限，切换其他线程运行）\n",
    "2. 单线程内开启协程，一旦遇到io，就会从应用程序级别（而非操作系统）控制切换，以此来提升效率（！！！非io操作的切换与效率无关）"
   ]
  },
  {
   "cell_type": "markdown",
   "metadata": {},
   "source": [
    "## 优点\n",
    "1. 协程的切换开销更小，属于程序级别的切换，操作系统完全感知不到，因而更加轻量级\n",
    "2. 单线程内就可以实现并发的效果，最大限度地利用cpu\n",
    "\n",
    "## 缺点\n",
    "1. 协程的本质是单线程下，无法利用多核，可以是一个程序开启多个进程，每个进程内开启多个线程，每个线程内开启协程\n",
    "2. 协程指的是单个线程，因而一旦协程出现阻塞，将会阻塞整个线程"
   ]
  },
  {
   "cell_type": "markdown",
   "metadata": {},
   "source": [
    "### yield 实现协程"
   ]
  },
  {
   "cell_type": "code",
   "execution_count": 1,
   "metadata": {},
   "outputs": [
    {
     "name": "stdout",
     "output_type": "stream",
     "text": [
      "1.8343377113342285\n"
     ]
    }
   ],
   "source": [
    "import time\n",
    "\n",
    "\n",
    "def consumer():\n",
    "    '''任务1:接收数据,处理数据'''\n",
    "    while True:\n",
    "        x = yield\n",
    "\n",
    "\n",
    "def producer():\n",
    "    '''任务2:生产数据'''\n",
    "    g = consumer()\n",
    "    next(g)\n",
    "    for i in range(10000000):\n",
    "        g.send(i)\n",
    "\n",
    "\n",
    "start = time.time()\n",
    "producer()  #并发执行,但是任务producer遇到io就会阻塞住,并不会切到该线程内的其他任务去执行\n",
    "\n",
    "stop = time.time()\n",
    "print(stop - start)"
   ]
  },
  {
   "cell_type": "markdown",
   "metadata": {},
   "source": [
    "## 一、greenlet模块\n",
    "安装greenlet模块\n",
    "\n",
    "greenlet模块能够实现自动切换，但是不能实现遇到IO自动切换"
   ]
  },
  {
   "cell_type": "code",
   "execution_count": 2,
   "metadata": {},
   "outputs": [
    {
     "name": "stdout",
     "output_type": "stream",
     "text": [
      "Requirement already satisfied: greenlet in /home/raymond/anaconda3/lib/python3.7/site-packages (0.4.15)\r\n"
     ]
    }
   ],
   "source": [
    "!sudo pip3 install greenlet"
   ]
  },
  {
   "cell_type": "code",
   "execution_count": 3,
   "metadata": {},
   "outputs": [
    {
     "name": "stdout",
     "output_type": "stream",
     "text": [
      "egon eat 1\n",
      "egon play 1\n",
      "egon eat 2\n",
      "egon play 2\n"
     ]
    }
   ],
   "source": [
    "from greenlet import greenlet\n",
    "\n",
    "\n",
    "def eat(name):\n",
    "    print('%s eat 1' % name)\n",
    "    g2.switch(name)\n",
    "    print('%s eat 2' % name)\n",
    "    g2.switch()\n",
    "\n",
    "\n",
    "def play(name):\n",
    "    print('%s play 1' % name)\n",
    "    g1.switch()\n",
    "    print('%s play 2' % name)\n",
    "\n",
    "\n",
    "g1 = greenlet(eat)\n",
    "g2 = greenlet(play)\n",
    "\n",
    "g1.switch('egon')  # 可以在第一次switch时传入参数，以后都不需要"
   ]
  },
  {
   "cell_type": "markdown",
   "metadata": {},
   "source": [
    "单纯的切换，反而会降低程序的执行速度"
   ]
  },
  {
   "cell_type": "code",
   "execution_count": 4,
   "metadata": {},
   "outputs": [
    {
     "name": "stdout",
     "output_type": "stream",
     "text": [
      "0.2071533203125\n"
     ]
    }
   ],
   "source": [
    "def func1():\n",
    "    num = 0\n",
    "    for i in range(1000000):\n",
    "        num +=i\n",
    "        \n",
    "def func2():\n",
    "    res = 1\n",
    "    for i in range(1000000):\n",
    "        res *=i\n",
    "        \n",
    "start = time.time()\n",
    "func1()\n",
    "func2()\n",
    "stop = time.time()\n",
    "print(stop - start)"
   ]
  },
  {
   "cell_type": "code",
   "execution_count": 5,
   "metadata": {},
   "outputs": [
    {
     "name": "stdout",
     "output_type": "stream",
     "text": [
      "0.9206156730651855\n"
     ]
    }
   ],
   "source": [
    "def func3():\n",
    "    num = 0\n",
    "    for i in range(1000000):\n",
    "        num += i\n",
    "        g2.switch()\n",
    "\n",
    "def func4():\n",
    "    res = 1\n",
    "    for i in range(1000000):\n",
    "        res *= i\n",
    "        g1.switch()\n",
    "\n",
    "\n",
    "start = time.time()\n",
    "g1 = greenlet(func3)\n",
    "g2 = greenlet(func4)\n",
    "g1.switch()\n",
    "stop = time.time()\n",
    "print(stop - start)"
   ]
  },
  {
   "cell_type": "markdown",
   "metadata": {},
   "source": [
    "想遇到IO自动切换就要用到gevent模块"
   ]
  },
  {
   "cell_type": "markdown",
   "metadata": {},
   "source": [
    "## 二、gevent模块"
   ]
  },
  {
   "cell_type": "markdown",
   "metadata": {},
   "source": [
    "Gevent 是一个第三方库，可以轻松通过gevent实现并发同步或异步编程"
   ]
  },
  {
   "cell_type": "code",
   "execution_count": 6,
   "metadata": {},
   "outputs": [
    {
     "name": "stdout",
     "output_type": "stream",
     "text": [
      "Requirement already satisfied: gevent in /home/raymond/anaconda3/lib/python3.7/site-packages (1.3.6)\n",
      "Requirement already satisfied: greenlet>=0.4.14 in /home/raymond/anaconda3/lib/python3.7/site-packages (from gevent) (0.4.15)\n"
     ]
    }
   ],
   "source": [
    "# 安装gevent\n",
    "!sudo pip3 install gevent"
   ]
  },
  {
   "cell_type": "markdown",
   "metadata": {},
   "source": [
    "**使用**"
   ]
  },
  {
   "cell_type": "markdown",
   "metadata": {},
   "source": [
    "g1 = gevent.spawn(func, 1, x=4, y=5)创建一个协程对象g1，spawn括号内第一个参数是函数名，如eat，后面可以有多个参数，可以是位置实参或关键字实参，都是传给函数eat的\n",
    "\n",
    "g2 = gevent.spawn(func2)\n",
    "\n",
    "g1.join()  ( 等待g1结束)\n",
    "\n",
    "g2.join()  (等待g2结束)\n",
    "\n",
    "**或者上述两步合作一步：gevent.joinall([g1,g2])**\n",
    "\n",
    "g1.value  # 拿到func1的返回值"
   ]
  },
  {
   "cell_type": "code",
   "execution_count": 7,
   "metadata": {},
   "outputs": [
    {
     "name": "stdout",
     "output_type": "stream",
     "text": [
      "egon eat 1\n",
      "egon play 1\n",
      "egon play 2\n",
      "egon eat 2\n"
     ]
    }
   ],
   "source": [
    "import gevent\n",
    "\n",
    "\n",
    "def eat(name):\n",
    "    print('%s eat 1' % name)\n",
    "    gevent.sleep(2)\n",
    "    print('%s eat 2' % name)\n",
    "\n",
    "\n",
    "def play(name):\n",
    "    print('%s play 1' % name)\n",
    "    gevent.sleep(1)\n",
    "    print('%s play 2' % name)\n",
    "\n",
    "\n",
    "g1 = gevent.spawn(eat, 'egon')\n",
    "g2 = gevent.spawn(play, name='egon')\n",
    "g1.join()\n",
    "g2.join()\n",
    "# 或者 gevent.joinall([g1,g2])"
   ]
  },
  {
   "cell_type": "markdown",
   "metadata": {},
   "source": [
    "上面的gevent.sleep是gevent可以识别的阻塞，如果我们想让我们程序中IO操作如(time.sleep,socket.accept)能够被gevent识别，需要在文件的第一行加上\n",
    "\n",
    "from gevent import monkey;monkey.patch_all()"
   ]
  },
  {
   "cell_type": "code",
   "execution_count": null,
   "metadata": {},
   "outputs": [
    {
     "name": "stdout",
     "output_type": "stream",
     "text": [
      "eat food 1\n",
      "play 1\n",
      "play 2\n",
      "eat food 2\n"
     ]
    }
   ],
   "source": [
    "from gevent import monkey;monkey.patch_all()\n",
    "import time\n",
    "import gevent\n",
    "from gevent import monkey\n",
    "monkey.patch_all()\n",
    "\n",
    "\n",
    "def eat():\n",
    "    print('eat food 1')\n",
    "    time.sleep(2)\n",
    "    print('eat food 2')\n",
    "\n",
    "\n",
    "def play():\n",
    "    print('play 1')\n",
    "    time.sleep(1)\n",
    "    print('play 2')\n",
    "\n",
    "\n",
    "g1 = gevent.spawn(eat)\n",
    "g2 = gevent.spawn(play)\n",
    "gevent.joinall([g1, g2])"
   ]
  },
  {
   "cell_type": "markdown",
   "metadata": {},
   "source": [
    "### 用gevent实现一个并发的socket服务端"
   ]
  },
  {
   "cell_type": "code",
   "execution_count": null,
   "metadata": {},
   "outputs": [],
   "source": [
    "import gevent\n",
    "from socket import *\n",
    "from gevent import monkey\n",
    "monkey.patch_all()\n",
    "\n",
    "# 如果不想用money.patch_all()打补丁,可以用gevent自带的socket\n",
    "# from gevent import socket\n",
    "# s=socket.socket()\n",
    "\n",
    "\n",
    "def server(server_ip, port):\n",
    "    s = socket(AF_INET, SOCK_STREAM)\n",
    "    s.setsockopt(SOL_SOCKET, SO_REUSEADDR, 1)\n",
    "    s.bind((server_ip, port))\n",
    "    s.listen(5)\n",
    "    while True:\n",
    "        conn, addr = s.accept()\n",
    "        gevent.spawn(talk, conn, addr)\n",
    "\n",
    "\n",
    "def talk(conn, addr):\n",
    "    try:\n",
    "        while True:\n",
    "            res = conn.recv(1024)\n",
    "            print('client %s:%s msg: %s' % (addr[0], addr[1], res))\n",
    "            conn.send(res.upper())\n",
    "    except Exception as e:\n",
    "        print(e)\n",
    "    finally:\n",
    "        conn.close()\n",
    "\n",
    "\n",
    "if __name__ == '__main__':\n",
    "    server('127.0.0.1', 8080)"
   ]
  }
 ],
 "metadata": {
  "kernelspec": {
   "display_name": "Python 3",
   "language": "python",
   "name": "python3"
  },
  "language_info": {
   "codemirror_mode": {
    "name": "ipython",
    "version": 3
   },
   "file_extension": ".py",
   "mimetype": "text/x-python",
   "name": "python",
   "nbconvert_exporter": "python",
   "pygments_lexer": "ipython3",
   "version": "3.7.2"
  }
 },
 "nbformat": 4,
 "nbformat_minor": 2
}
