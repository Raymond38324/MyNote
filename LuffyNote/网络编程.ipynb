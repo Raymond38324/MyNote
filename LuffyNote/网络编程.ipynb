{
 "cells": [
  {
   "cell_type": "markdown",
   "metadata": {},
   "source": [
    "# 计算机基础\n",
    "## 什么是cs架构\n",
    "C指的是client（客户端软件），S指的是Server（服务端软件）。比如迅雷，暴风影音。这些都是client,迅雷和暴风影音的公司的服务器上运行的就是server\n",
    "## 什么是BS架构\n",
    "B指的是browser(浏览器，常见的有谷歌浏览器，火狐浏览器，前端开发最恨的IE浏览器)，S指的是Server（服务端软件）。现在有许多BS架构的应用，比如说路飞学城。"
   ]
  },
  {
   "cell_type": "code",
   "execution_count": 2,
   "metadata": {},
   "outputs": [
    {
     "data": {
      "text/plain": [
       "[0, 1, 2, 3, 4, 5, 6, 7, 8, 9]"
      ]
     },
     "execution_count": 2,
     "metadata": {},
     "output_type": "execute_result"
    }
   ],
   "source": [
    "a = list(range(10))\n",
    "a"
   ]
  }
 ],
 "metadata": {
  "kernelspec": {
   "display_name": "Python 3",
   "language": "python",
   "name": "python3"
  },
  "language_info": {
   "codemirror_mode": {
    "name": "ipython",
    "version": 3
   },
   "file_extension": ".py",
   "mimetype": "text/x-python",
   "name": "python",
   "nbconvert_exporter": "python",
   "pygments_lexer": "ipython3",
   "version": "3.7.2"
  }
 },
 "nbformat": 4,
 "nbformat_minor": 2
}
