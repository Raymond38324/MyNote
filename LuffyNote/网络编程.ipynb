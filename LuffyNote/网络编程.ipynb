{
 "cells": [
  {
   "cell_type": "markdown",
   "metadata": {},
   "source": [
    "# 计算机基础\n",
    "## 什么是cs架构\n",
    "C指的是client（客户端软件），S指的是Server（服务端软件）。比如迅雷，暴风影音。这些都是client,迅雷和暴风影音的公司的服务器上运行的就是server\n",
    "## 什么是BS架构\n",
    "B指的是browser(浏览器，常见的有谷歌浏览器，火狐浏览器，前端开发最恨的IE浏览器)，S指的是Server（服务端软件）。现在有许多BS架构的应用，比如说路飞学城。\n",
    "## 计算机基础知识\n",
    "作为应用开发程序员，我们开发的软件都是应用软件，而应用软件必须运行于操作系统之上，操作系统则运行于硬件之上，应用软件是无法直接操作硬件的，应用软件对硬件的操作必须调用操作系统的接口，由操作系统操控硬件。\n",
    "\n",
    "比如客户端软件想要基于网络发送一条消息给服务端软件，流程是：\n",
    "\n",
    "1. 客户端软件产生数据，存放于客户端软件的内存中，然后调用接口将自己内存中的数据发送／拷贝给操作系统内存\n",
    "\n",
    "2. 客户端操作系统收到数据后，按照客户端软件指定的规则（即协议）、调用网卡发送数据\n",
    "\n",
    "3. 网络传输数据\n",
    "\n",
    "4. 服务端软件调用系统接口，想要将数据从操作系统内存拷贝到自己的内存中\n",
    "\n",
    "5. 服务端操作系统收到4的指令后，使用与客户端相同的规则（即协议）从网卡接收到数据，然后拷贝给服务端软件\n",
    "\n",
    "![](http://book.luffycity.com/python-book/assets/%E8%AE%A1%E7%AE%97%E6%9C%BA%E5%9F%BA%E7%A1%80.png)\n",
    "\n",
    "# 什么是网络\n",
    "计算机之间的通信也应该有一个一样的通信标准，这个标准称之为互联网协议， 可以很明确地说：互联网协议就是计算机界的英语，网络就是物理链接介质+互联网协议。 我们需要做的是，让全世界的计算机都学会互联网协议，这样任意一台计算机在发消息时都严格按照协议规定的格式去组织数据，接收方就可以按照相同的协议解析出结果了，这就实现了全世界的计算机都能无障碍通信。 按照功能不同，人们将互联网协议分为osi七层或tcp/ip五层或tcp/ip四层\n",
    "\n",
    "![](http://book.luffycity.com/python-book/assets/6.1-osi.png)\n",
    "每层运行常见物理设备\n",
    "![](http://book.luffycity.com/python-book/assets/6.1-osi-2.png)\n",
    "\n",
    "# 什么是TCP/IP\n",
    "Transmission Control Protocol/Internet Protocol的简写，中译名为传输控制协议/因特网互联协议，又名网络通讯协议，是Internet最基本的协议、Internet国际互联网络的基础"
   ]
  },
  {
   "cell_type": "markdown",
   "metadata": {},
   "source": [
    "## TCP/IP五层模型\n",
    "### 物理层\n",
    "物理层由来：孤立的计算机之间要想互相通信，就必须接入internet，言外之意就是计算机之间必须完成组网\n",
    "![](http://static.zybuluo.com/agocan/n3dmu4wcajuhgxzdix9ticpg/image_1c1phulig10ftmjl914m11l7g37.png)\n",
    "物理层功能：主要是基于电器特性发送高低电压(电信号)，高电压对应数字1，低电压对应数字0\n",
    "### 数据链路层\n",
    "数据链路层由来：单纯的电信号0和1没有任何意义，必须规定电信号多少位一组，每组什么意思\n",
    "\n",
    "数据链路层的功能：定义了电信号的分组方式\n",
    "\n",
    "**以太网协议：**\n",
    "\n",
    "早期的时候各个公司都有自己的分组方式，后来形成了统一的标准，即以太网协议ethernet\n",
    "![](https://note.youdao.com/yws/public/resource/5baee4aa184d81b573cba9b6a4956298/xmlnote/WEBRESOURCEc461a41159f659d05ce26422b99762e0/3142)\n",
    "head长度＋data长度＝最短64字节，最长1518字节，超过最大限制就分片发送\n",
    "\n",
    "**mac地址**\n",
    "head中包含的源和目标地址由来：ethernet规定接入internet的设备都必须具备网卡，发送端和接收端的地址便是指网卡的地址，即mac地址\n",
    "\n",
    "mac地址：每块网卡出厂时都被烧制上一个世界唯一的mac地址，长度为48位2进制，通常由12位16进制数表示（前六位是厂商编号，后六位是流水线号）\n",
    "**通信方式：广播(吼)**\n",
    "有了mac地址，同一网络内的两台主机就可以通信了（一台主机通过arp协议获取另外一台主机的mac地址）\n",
    "\n",
    "ethernet采用最原始的方式，广播的方式进行通信，即计算机通信基本靠吼\n",
    "![](http://static.zybuluo.com/agocan/x5i4rgscp9rn8drgvcriz550/image_1c1phvbie1089aas488136h1b3t44.png)\n",
    "### 网络层\n",
    "网络层由来：有了ethernet、mac地址、广播的发送方式，世界上的计算机就可以彼此通信了，问题是世界范围的互联网是由\n",
    "\n",
    "一个个彼此隔离的小的局域网组成的，那么如果所有的通信都采用以太网的广播方式，那么一台机器发送的包全世界都会收到，\n",
    "\n",
    "这就不仅仅是效率低的问题了，这会是一种灾难\n",
    "\n",
    "![](http://static.zybuluo.com/agocan/y83sok1x0fk6pw1xp6kporqz/image_1c1phvu001kpnl93o96ee0qpq4u.png)\n",
    "\n",
    "上图结论：必须找出一种方法来区分哪些计算机属于同一广播域，哪些不是，如果是就采用广播的方式发送，如果不是，\n",
    "\n",
    "就采用路由的方式（向不同广播域／子网分发数据包），mac地址是无法区分的，它只跟厂商有关\n",
    "\n",
    "\n",
    "网络层功能：**引入一套新的地址用来区分不同的广播域／子网，这套地址即网络地址**\n",
    "\n",
    "**IP协议：**\n",
    "规定网络地址的协议叫ip协议，它定义的地址称之为ip地址，广泛采用的v4版本即ipv4，它规定网络地址由32位2进制表示\n",
    "范围0.0.0.0-255.255.255.255\n",
    "一个ip地址通常写成四段十进制数，例：172.16.10.1\n",
    "**子网掩码**\n",
    "\n",
    "所谓”子网掩码”，就是表示子网络特征的一个参数。它在形式上等同于IP地址，也是一个32位二进制数字，它的网络部分全部为1，主机部分全部为0。比如，IP地址172.16.10.1，如果已知网络部分是前24位，主机部分是后8位，那么子网络掩码就是11111111.11111111.11111111.00000000，写成十进制就是255.255.255.0。\n",
    "\n",
    "子网掩码是用来标识一个IP地址的哪些位是代表网络位，以及哪些位是代表主机位。子网掩码不能单独存在，它必须结合IP地址一起使用。子网掩码只有一个作用，就是将某个IP地址划分成网络地址和主机地址两部分。\n",
    "\n",
    "区分网络位和主机位是为了划分子网，就是把一个大网络分成多个小网络，防止广播风暴和地址浪费\n",
    "\n",
    "**广播风暴：**6万台主机在一个网段里，通信基本靠吼，任何一个人要吼一嗓子，6万多个人必须被动听着，一会你的网络就瘫痪啦。\n",
    "**地址浪费：**运营商在公网上有很多级联的路由器，有时候2个路由器之间只会用掉几个IP,如果不进行子网划分，那同网段的其它主机也就都不能用了。举例两个级联路由器的接口ip分别为222.34.24.12/24,222.34.24.13/24, 此可承载255个主机的网段只用了2个IP,那其它的就全浪费了，因为不能再分配给别人。\n",
    "划分子网本质上就是借主机位到给网络位，每借一位主机位，这个网段的可分配主机就会越少，比如192.168.1.0/24可用主机255个，借一位变成192.168.1.0/25，那可用主机就从255-128=127个了（从最大的值开始借），再借一位192.168.1.0/26,那可用主机数就变成了255-(128+64)=63个啦\n",
    "\n",
    "**IP地址分类：**\n",
    "\n",
    "IP地址根据网络ID的不同分为5种类型，A类地址、B类地址、C类地址、D类地址和E类地址。\n",
    "\n",
    "- A类IP地址：一个A类IP地址由1字节的网络地址和3字节主机地址组成，网络地址的最高位必须是“0”， 地址范围从1.0.0.0 到126.0.0.0。可用的A类网络有126个，每个网络能容纳1亿多个主机。\n",
    "- B类IP地址 ：一个B类IP地址由2个字节的网络地址和2个字节的主机地址组成，网络地址的最高位必须是“10”，地址范围从128.0.0.0到191.255.255.255。可用的B类网络有16382个，每个网络能容纳6万多个主机 。\n",
    "- C类IP地址：一个C类IP地址由3字节的网络地址和1字节的主机地址组成，网络地址的最高位必须是“110”。范围从192.0.0.0到223.255.255.255。C类网络可达209万余个，每个网络能容纳254个主机。\n",
    "- D类地址用于多点广播（Multicast）： D类IP地址第一个字节以“lll0”开始，它是一个专门保留的地址。它并不指向特定的网络，目前这一类地址被用在多点广播（Multicast）中。多点广播地址用来一次寻址一组计算机，它标识共享同一协议的一组计算机。\n",
    "- E类IP地址 以“llll0”开始，为将来使用保留。\n",
    "全零（“0．0．0．0”）地址对应于当前主机。全“1”的IP地址（“255．255．255．255”）是当前子网的广播地址。"
   ]
  },
  {
   "cell_type": "code",
   "execution_count": 1,
   "metadata": {},
   "outputs": [
    {
     "name": "stdout",
     "output_type": "stream",
     "text": [
      "1: lo: <LOOPBACK,UP,LOWER_UP> mtu 65536 qdisc noqueue state UNKNOWN group default qlen 1000\r\n",
      "    link/loopback 00:00:00:00:00:00 brd 00:00:00:00:00:00\r\n",
      "    inet 127.0.0.1/8 scope host lo\r\n",
      "       valid_lft forever preferred_lft forever\r\n",
      "    inet6 ::1/128 scope host \r\n",
      "       valid_lft forever preferred_lft forever\r\n",
      "2: enp9s0: <BROADCAST,MULTICAST,UP,LOWER_UP> mtu 1500 qdisc fq_codel state UP group default qlen 1000\r\n",
      "    link/ether 00:26:b9:07:f1:c5 brd ff:ff:ff:ff:ff:ff\r\n",
      "    inet 172.30.38.48/17 brd 172.30.127.255 scope global dynamic noprefixroute enp9s0\r\n",
      "       valid_lft 78947sec preferred_lft 78947sec\r\n",
      "    inet6 fe80::ad1:e8e8:f15c:97de/64 scope link noprefixroute \r\n",
      "       valid_lft forever preferred_lft forever\r\n",
      "3: wlp12s0: <BROADCAST,MULTICAST,UP,LOWER_UP> mtu 1500 qdisc fq_codel state UP group default qlen 1000\r\n",
      "    link/ether 0c:ee:e6:9b:8c:0d brd ff:ff:ff:ff:ff:ff\r\n",
      "    inet 172.29.144.78/16 brd 172.29.255.255 scope global dynamic noprefixroute wlp12s0\r\n",
      "       valid_lft 78947sec preferred_lft 78947sec\r\n",
      "    inet6 fe80::18c1:2545:d064:af4b/64 scope link noprefixroute \r\n",
      "       valid_lft forever preferred_lft forever\r\n"
     ]
    }
   ],
   "source": [
    "!ip addr"
   ]
  },
  {
   "cell_type": "markdown",
   "metadata": {},
   "source": [
    "**环回接口（loopback）**。平时我们用127.0.0.1来尝试自己的机器服务器好使不好使。走的就是这个loopback接口。对于环回接口，有如下三点值得注意:\n",
    "1. 传给环回地址（一般是127.0.0.1）的任何数据均作为IP输入。\n",
    "2. 传给广播地址或多播地址的数据报复制一份传给环回接口，然后送到以太网上。这是 因为广播传送和多播传送的定义包含主机本身。\n",
    "3. 任何传给该主机IP地址的数据均送到环回接口。"
   ]
  },
  {
   "cell_type": "markdown",
   "metadata": {},
   "source": [
    "#### IP报文\n",
    "IP协议是TCP/IP协议的核心，所有的TCP，UDP，IMCP，IGCP的数据都以IP数据格式传输，要注意的是，IP不是可靠的协议，这是说，IP协议没有提供一种数据未传达以后的处理机制－－这被认为是上层协议－－TCP或UDP要做的事情。\n",
    "\n",
    "##### 各种上层协议\n",
    "###### ARP协议\n",
    "arp协议功能：广播的方式发送数据包，获取目标主机的mac地址\n",
    "\n",
    "协议工作方式：每台主机ip都是已知的\n",
    "\n",
    "例如：主机172.16.10.10/24访问172.16.10.11/24\n",
    "\n",
    "一：首先通过ip地址和子网掩码区分出自己所处的子网\n",
    "\n",
    "|场景|\t数据包地址|\n",
    "|---|---|\n",
    "|同一子网|\t目标主机mac，目标主机ip|\n",
    "|不同子网\t|网关mac，目标主机ip|\n",
    "\n",
    "二：分析172.16.10.10/24与172.16.10.11/24处于同一网络(如果不是同一网络，那么下表中目标ip为172.16.10.1,通过arp获取的是网关的mac)\n",
    "\n",
    "|  主机名|源mac\t|目标mac|\t源ip|\t目标ip\t|数据部分|\n",
    "|---|---|---|---|----|---|\n",
    "|发送端主机\t|发送端mac\t|FF:FF:FF:FF:FF:FF|\t172.16.10.10/24\t|172.16.10.11/24|\t数据|\n",
    "\n",
    "三：这个包会以广播的方式在发送端所处的子网内传输，所有主机接收后拆开包，发现目标ip为自己的，就响应，返回自己的mac"
   ]
  },
  {
   "cell_type": "markdown",
   "metadata": {},
   "source": [
    "##### ICMP\n",
    "\n",
    "前面讲到了，IP协议并不是一个可靠的协议，它不保证数据被送达，那么，自然的，保证数据送达的工作应该由其他的模块来完成。其中一个重要的模块就是ICMP(网络控制报文)协议。\n",
    "\n",
    "当传送IP数据包发生错误－－比如主机不可达，路由不可达等等，ICMP协议将会把错误信息封包，然后传送回给主机。给主机一个处理错误的机会.\n",
    "\n",
    "我们一般主要用ICMP协议检测网络是否通畅，基于ICMP协议的工具主要有ping 和traceroute"
   ]
  },
  {
   "cell_type": "markdown",
   "metadata": {},
   "source": [
    "**ping**\n",
    "\n",
    "ping这个单词源自声纳定位，而这个程序的作用也确实如此，它利用ICMP协议包来侦测另一个主机是否可达。原理是用类型码为0的ICMP发请 求，受到请求的主机则用类型码为8的ICMP回应。ping程序来计算间隔时间，并计算有多少个包被送达。用户就可以判断网络大致的情况。我们可以看到， ping给出来了传送的时间和TTL的数据。"
   ]
  },
  {
   "cell_type": "code",
   "execution_count": 2,
   "metadata": {},
   "outputs": [
    {
     "name": "stdout",
     "output_type": "stream",
     "text": [
      "PING www.a.shifen.com (115.239.211.112) 56(84) bytes of data.\n",
      "64 bytes from 115.239.211.112 (115.239.211.112): icmp_seq=1 ttl=50 time=53.5 ms\n",
      "64 bytes from 115.239.211.112 (115.239.211.112): icmp_seq=2 ttl=50 time=57.5 ms\n",
      "64 bytes from 115.239.211.112 (115.239.211.112): icmp_seq=3 ttl=50 time=55.2 ms\n",
      "64 bytes from 115.239.211.112 (115.239.211.112): icmp_seq=4 ttl=50 time=58.5 ms\n",
      "64 bytes from 115.239.211.112 (115.239.211.112): icmp_seq=5 ttl=50 time=54.9 ms\n",
      "^C\n",
      "\n",
      "--- www.a.shifen.com ping statistics ---\n",
      "5 packets transmitted, 5 received, 0% packet loss, time 10ms\n",
      "rtt min/avg/max/mdev = 53.479/55.935/58.525/1.850 ms\n"
     ]
    }
   ],
   "source": [
    "!ping www.baidu.com"
   ]
  },
  {
   "cell_type": "markdown",
   "metadata": {},
   "source": [
    "**traceroute**\n",
    "\n",
    "用来查看从当前主机到某地址一共经过多少跳路由"
   ]
  },
  {
   "cell_type": "code",
   "execution_count": 3,
   "metadata": {},
   "outputs": [
    {
     "name": "stdout",
     "output_type": "stream",
     "text": [
      "traceroute to www.baidu.com (115.239.210.27), 30 hops max, 60 byte packets\n",
      " 1  bogon (172.29.255.254)  24.657 ms  25.140 ms *\n",
      " 2  bogon (10.0.2.2)  25.051 ms * *\n",
      " 3  hn.kd.dhcp (61.52.32.1)  29.654 ms  29.694 ms  30.104 ms\n",
      " 4  hn.163.ppp (221.14.249.9)  28.329 ms hn.kd.ny.adsl (125.45.255.69)  27.899 ms pc65.zz.ha.cn (61.168.1.65)  27.857 ms\n",
      " 5  pc73.zz.ha.cn (61.168.37.73)  29.620 ms *  29.354 ms\n",
      " 6  * *^C\n"
     ]
    }
   ],
   "source": [
    "!traceroute www.baidu.com"
   ]
  },
  {
   "cell_type": "markdown",
   "metadata": {},
   "source": [
    "### 传输层\n",
    "传输层的由来：网络层的ip帮我们区分子网，以太网层的mac帮我们找到主机，然后大家使用的都是应用程序，你的电脑上可能同时开启qq，暴风影音，迅雷等多个应用程序，\n",
    "\n",
    "那么我们通过ip和mac找到了一台特定的主机，如何标识这台主机上的应用程序呢？答案就是端口，端口即应用程序与网卡关联的编号。\n",
    "\n",
    "传输层功能：建立端口到端口的通信\n",
    "\n",
    "补充：端口范围0-65535，0-1023为系统占用端口\n",
    "\n",
    "传输层有两种协议，TCP和UDP,见下图\n",
    "![](http://static.zybuluo.com/agocan/z2t2fc70jqxtzzu1q18pg0z7/image_1c1phaje51rgg7gi4u1bkj13sh2q.png)\n",
    "#### tcp协议\n",
    "可靠传输，TCP数据包没有长度限制，理论上可以无限长，但是为了保证网络的效率，通常TCP数据包的长度不会超过IP数据包的长度，以确保单个TCP数据包不必再分割。\n",
    "tcp报文\n",
    "![tcp报文](http://static.zybuluo.com/agocan/okd2wkcuyealmxbhjtswt3t6/image_1c1pi13rojvpu5f1iph75fp8o5b.png)\n",
    "### udp协议\n",
    "不可靠传输，”报头”部分一共只有8个字节，总长度不超过65,535字节，正好放进一个IP数据包。\n",
    "\n",
    "**总结**\n",
    "\n",
    "TCP协议虽然安全性很高，但是网络开销大，而UDP协议虽然没有提供安全机制，但是网络开销小，在现在这个网络安全已经相对较高的情况下，为了保证传输的速率，我们一般还是会优先考虑UDP协议！"
   ]
  }
 ],
 "metadata": {
  "kernelspec": {
   "display_name": "Python 3",
   "language": "python",
   "name": "python3"
  },
  "language_info": {
   "codemirror_mode": {
    "name": "ipython",
    "version": 3
   },
   "file_extension": ".py",
   "mimetype": "text/x-python",
   "name": "python",
   "nbconvert_exporter": "python",
   "pygments_lexer": "ipython3",
   "version": "3.7.2"
  }
 },
 "nbformat": 4,
 "nbformat_minor": 2
}
