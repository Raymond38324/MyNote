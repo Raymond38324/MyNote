{
 "cells": [
  {
   "cell_type": "markdown",
   "metadata": {},
   "source": [
    "### 1. 从给定数据中匹配出网址"
   ]
  },
  {
   "cell_type": "code",
   "execution_count": 1,
   "metadata": {},
   "outputs": [],
   "source": [
    "string = '100.121.134.201 10.111.101.38 - [22/Mar/2019:13:30:14 +0800] support.dailuobo.com \"POST /management/ordmgt/pickup/lockOrders HTTP/1.1\" 200 47 0.012 \"10.111.7.66:2200\" \"0.012\" \"http://support.dailuobo.com/management/index;jsessionid=57E588D9B6772409F0552F24125E151B\" \"Mozilla/5.0 (Windows NT 6.1; Win64; x64) AppleWebKit/537.36 (KHTML, like Gecko) Chrome/69.0.3497.100 Safari/537.36\" \"114.96.35.104\"'"
   ]
  },
  {
   "cell_type": "code",
   "execution_count": 2,
   "metadata": {},
   "outputs": [
    {
     "data": {
      "text/plain": [
       "'http://support.dailuobo.com/management/index;jsessionid=57E588D9B6772409F0552F24125E151B'"
      ]
     },
     "execution_count": 2,
     "metadata": {},
     "output_type": "execute_result"
    }
   ],
   "source": [
    "import re\n",
    "re.search(r'http.*B', string).group()"
   ]
  },
  {
   "cell_type": "markdown",
   "metadata": {},
   "source": [
    "## 2、显示/proc/meminfo文件中以大小s开头的行："
   ]
  },
  {
   "cell_type": "code",
   "execution_count": 3,
   "metadata": {},
   "outputs": [
    {
     "name": "stdout",
     "output_type": "stream",
     "text": [
      "SwapCached:            0 kB\r\n",
      "SwapTotal:             0 kB\r\n",
      "SwapFree:              0 kB\r\n",
      "Shmem:            242200 kB\r\n",
      "Slab:             144700 kB\r\n",
      "SReclaimable:      99100 kB\r\n",
      "SUnreclaim:        45600 kB\r\n",
      "ShmemHugePages:        0 kB\r\n",
      "ShmemPmdMapped:        0 kB\r\n"
     ]
    }
   ],
   "source": [
    "# 方法一\n",
    "!egrep -i \"^s\" /proc/meminfo"
   ]
  },
  {
   "cell_type": "code",
   "execution_count": 4,
   "metadata": {},
   "outputs": [
    {
     "name": "stdout",
     "output_type": "stream",
     "text": [
      "SwapCached:            0 kB\r\n",
      "SwapTotal:             0 kB\r\n",
      "SwapFree:              0 kB\r\n",
      "Shmem:            239648 kB\r\n",
      "Slab:             144700 kB\r\n",
      "SReclaimable:      99100 kB\r\n",
      "SUnreclaim:        45600 kB\r\n",
      "ShmemHugePages:        0 kB\r\n",
      "ShmemPmdMapped:        0 kB\r\n"
     ]
    }
   ],
   "source": [
    "# 方法二\n",
    "!egrep '^(S|s)' /proc/meminfo"
   ]
  },
  {
   "cell_type": "code",
   "execution_count": 5,
   "metadata": {},
   "outputs": [
    {
     "name": "stdout",
     "output_type": "stream",
     "text": [
      "SwapCached:            0 kB\r\n",
      "SwapTotal:             0 kB\r\n",
      "SwapFree:              0 kB\r\n",
      "Shmem:            249648 kB\r\n",
      "Slab:             144704 kB\r\n",
      "SReclaimable:      99100 kB\r\n",
      "SUnreclaim:        45604 kB\r\n",
      "ShmemHugePages:        0 kB\r\n",
      "ShmemPmdMapped:        0 kB\r\n"
     ]
    }
   ],
   "source": [
    "# 方法三\n",
    "!egrep '^[Ss]' /proc/meminfo"
   ]
  },
  {
   "cell_type": "markdown",
   "metadata": {},
   "source": [
    "## 3、显示/etc/passwd文件中不以/sbin/nologin结尾的行："
   ]
  },
  {
   "cell_type": "code",
   "execution_count": 6,
   "metadata": {
    "scrolled": true
   },
   "outputs": [
    {
     "name": "stdout",
     "output_type": "stream",
     "text": [
      "root:x:0:0::/root:/bin/bash\r\n",
      "git:x:973:973:git daemon user:/:/usr/bin/git-shell\r\n",
      "ntp:x:87:87:Network Time Protocol:/var/lib/ntp:/bin/false\r\n",
      "raymond:x:1000:1001:raymond:/home/raymond:/bin/zsh\r\n"
     ]
    }
   ],
   "source": [
    "!egrep -v '/sbin/nologin$' /etc/passwd"
   ]
  },
  {
   "cell_type": "markdown",
   "metadata": {},
   "source": [
    "### 4.找出/etc/passwd中的两位或三位数"
   ]
  },
  {
   "cell_type": "code",
   "execution_count": 7,
   "metadata": {},
   "outputs": [],
   "source": [
    "with open('/etc/passwd') as f:\n",
    "    data = f.read()"
   ]
  },
  {
   "cell_type": "code",
   "execution_count": 8,
   "metadata": {},
   "outputs": [
    {
     "data": {
      "text/plain": [
       "['655',\n",
       " '34',\n",
       " '655',\n",
       " '34',\n",
       " '81',\n",
       " '81',\n",
       " '12',\n",
       " '14',\n",
       " '11',\n",
       " '33',\n",
       " '33',\n",
       " '982',\n",
       " '982',\n",
       " '981',\n",
       " '981',\n",
       " '980',\n",
       " '980',\n",
       " '979',\n",
       " '979',\n",
       " '978',\n",
       " '978',\n",
       " '68',\n",
       " '68',\n",
       " '977',\n",
       " '977',\n",
       " '32',\n",
       " '32',\n",
       " '976',\n",
       " '976',\n",
       " '975',\n",
       " '975',\n",
       " '209',\n",
       " '209',\n",
       " '120',\n",
       " '120',\n",
       " '974',\n",
       " '974',\n",
       " '973',\n",
       " '973',\n",
       " '972',\n",
       " '972',\n",
       " '971',\n",
       " '971',\n",
       " '87',\n",
       " '87',\n",
       " '102',\n",
       " '102',\n",
       " '133',\n",
       " '133',\n",
       " '140',\n",
       " '140',\n",
       " '100',\n",
       " '100',\n",
       " '970',\n",
       " '970',\n",
       " '969',\n",
       " '969',\n",
       " '967',\n",
       " '967']"
      ]
     },
     "execution_count": 8,
     "metadata": {},
     "output_type": "execute_result"
    }
   ],
   "source": [
    "re.findall(r'[0-9]{2,3}', data)"
   ]
  },
  {
   "cell_type": "markdown",
   "metadata": {},
   "source": [
    "### 5 显示所有系统用户的用户名和UID"
   ]
  },
  {
   "cell_type": "code",
   "execution_count": 9,
   "metadata": {},
   "outputs": [
    {
     "data": {
      "text/plain": [
       "['用户名 : root   UID:  0',\n",
       " '用户名 : nobody   UID:  65534',\n",
       " '用户名 : dbus   UID:  81',\n",
       " '用户名 : bin   UID:  1',\n",
       " '用户名 : daemon   UID:  2',\n",
       " '用户名 : mail   UID:  8',\n",
       " '用户名 : ftp   UID:  14',\n",
       " '用户名 : http   UID:  33',\n",
       " '用户名 : remote   UID:  982',\n",
       " '用户名 : network   UID:  981',\n",
       " '用户名 : resolve   UID:  980',\n",
       " '用户名 : timesync   UID:  979',\n",
       " '用户名 : coredump   UID:  978',\n",
       " '用户名 : uuidd   UID:  68',\n",
       " '用户名 : dnsmasq   UID:  977',\n",
       " '用户名 : rpc   UID:  32',\n",
       " '用户名 : avahi   UID:  976',\n",
       " '用户名 : colord   UID:  975',\n",
       " '用户名 : cups   UID:  209',\n",
       " '用户名 : gdm   UID:  120',\n",
       " '用户名 : geoclue   UID:  974',\n",
       " '用户名 : git   UID:  973',\n",
       " '用户名 : openconnect   UID:  972',\n",
       " '用户名 : openvpn   UID:  971',\n",
       " '用户名 : ntp   UID:  87',\n",
       " '用户名 : polkitd   UID:  102',\n",
       " '用户名 : rtkit   UID:  133',\n",
       " '用户名 : usbmux   UID:  140',\n",
       " '用户名 : raymond   UID:  1000',\n",
       " '用户名 : mysql   UID:  970',\n",
       " '用户名 : redis   UID:  969',\n",
       " '用户名 : elasticsearch   UID:  967']"
      ]
     },
     "execution_count": 9,
     "metadata": {},
     "output_type": "execute_result"
    }
   ],
   "source": [
    "['用户名 : {}   UID:  {}'.format(*i.split(\":x:\"))\n",
    " for i in re.findall(r'\\w+:x:\\d+', data)]"
   ]
  },
  {
   "cell_type": "markdown",
   "metadata": {},
   "source": [
    "### 6 if addr 命令结果中所有IPv4 地址"
   ]
  },
  {
   "cell_type": "code",
   "execution_count": 10,
   "metadata": {},
   "outputs": [],
   "source": [
    "import subprocess\n",
    "res = subprocess.Popen('ip addr', shell=True,\n",
    "                       stdout=subprocess.PIPE).stdout.read().decode('utf8')"
   ]
  },
  {
   "cell_type": "code",
   "execution_count": 11,
   "metadata": {},
   "outputs": [
    {
     "data": {
      "text/plain": [
       "['127.0.0.1',\n",
       " '172.30.38.48',\n",
       " '172.30.127.255',\n",
       " '172.29.144.78',\n",
       " '172.29.255.255']"
      ]
     },
     "execution_count": 11,
     "metadata": {},
     "output_type": "execute_result"
    }
   ],
   "source": [
    "re.findall(r\"\\d{1,3}\\.\\d{1,3}\\.\\d{1,3}\\.\\d{1,3}\", res)"
   ]
  },
  {
   "cell_type": "markdown",
   "metadata": {},
   "source": [
    "### 7 利用扩展正则表达式分别表示0-9 、10-99 、100-199、200-249 、250-255"
   ]
  },
  {
   "cell_type": "markdown",
   "metadata": {},
   "source": [
    "0-9"
   ]
  },
  {
   "cell_type": "code",
   "execution_count": 12,
   "metadata": {},
   "outputs": [
    {
     "data": {
      "text/plain": [
       "re.compile(r'\\d', re.UNICODE)"
      ]
     },
     "execution_count": 12,
     "metadata": {},
     "output_type": "execute_result"
    }
   ],
   "source": [
    "re.compile('[0-9]')\n",
    "re.compile('\\d')"
   ]
  },
  {
   "cell_type": "markdown",
   "metadata": {},
   "source": [
    "10-99"
   ]
  },
  {
   "cell_type": "code",
   "execution_count": 13,
   "metadata": {},
   "outputs": [
    {
     "data": {
      "text/plain": [
       "re.compile(r'[1-9][0-9]', re.UNICODE)"
      ]
     },
     "execution_count": 13,
     "metadata": {},
     "output_type": "execute_result"
    }
   ],
   "source": [
    "re.compile(r\"[1-9][0-9]\")"
   ]
  },
  {
   "cell_type": "markdown",
   "metadata": {},
   "source": [
    "100-199"
   ]
  },
  {
   "cell_type": "code",
   "execution_count": 14,
   "metadata": {},
   "outputs": [
    {
     "data": {
      "text/plain": [
       "re.compile(r'1[0-9][0-9]', re.UNICODE)"
      ]
     },
     "execution_count": 14,
     "metadata": {},
     "output_type": "execute_result"
    }
   ],
   "source": [
    "re.compile(r'1[0-9][0-9]')"
   ]
  },
  {
   "cell_type": "markdown",
   "metadata": {},
   "source": [
    "200-249"
   ]
  },
  {
   "cell_type": "code",
   "execution_count": 15,
   "metadata": {},
   "outputs": [
    {
     "data": {
      "text/plain": [
       "re.compile(r'2[0-4][0-9]', re.UNICODE)"
      ]
     },
     "execution_count": 15,
     "metadata": {},
     "output_type": "execute_result"
    }
   ],
   "source": [
    "re.compile(r'2[0-4][0-9]')"
   ]
  },
  {
   "cell_type": "markdown",
   "metadata": {},
   "source": [
    "250-255"
   ]
  },
  {
   "cell_type": "code",
   "execution_count": 16,
   "metadata": {},
   "outputs": [
    {
     "data": {
      "text/plain": [
       "re.compile(r'25[0-5]', re.UNICODE)"
      ]
     },
     "execution_count": 16,
     "metadata": {},
     "output_type": "execute_result"
    }
   ],
   "source": [
    "re.compile(r'25[0-5]')"
   ]
  }
 ],
 "metadata": {
  "kernelspec": {
   "display_name": "Python 3",
   "language": "python",
   "name": "python3"
  },
  "language_info": {
   "codemirror_mode": {
    "name": "ipython",
    "version": 3
   },
   "file_extension": ".py",
   "mimetype": "text/x-python",
   "name": "python",
   "nbconvert_exporter": "python",
   "pygments_lexer": "ipython3",
   "version": "3.7.2"
  }
 },
 "nbformat": 4,
 "nbformat_minor": 2
}
