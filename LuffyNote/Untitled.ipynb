{
 "cells": [
  {
   "cell_type": "markdown",
   "metadata": {},
   "source": [
    "# 协程"
   ]
  },
  {
   "cell_type": "markdown",
   "metadata": {},
   "source": [
    "## 一、greenlet模块\n",
    "安装greenlet模块"
   ]
  },
  {
   "cell_type": "code",
   "execution_count": 4,
   "metadata": {},
   "outputs": [
    {
     "name": "stdout",
     "output_type": "stream",
     "text": [
      "Requirement already satisfied: greenlet in /home/raymond/anaconda3/lib/python3.7/site-packages (0.4.15)\r\n"
     ]
    }
   ],
   "source": [
    "!sudo pip3 install greenlet"
   ]
  },
  {
   "cell_type": "code",
   "execution_count": 5,
   "metadata": {},
   "outputs": [
    {
     "name": "stdout",
     "output_type": "stream",
     "text": [
      "egon eat 1\n",
      "egon play 1\n",
      "egon eat 2\n",
      "egon play 2\n"
     ]
    }
   ],
   "source": [
    "from greenlet import greenlet\n",
    "\n",
    "def eat(name):\n",
    "    print('%s eat 1' %name)\n",
    "    g2.switch('egon')\n",
    "    print('%s eat 2' %name)\n",
    "    g2.switch()\n",
    "def play(name):\n",
    "    print('%s play 1' %name)\n",
    "    g1.switch()\n",
    "    print('%s play 2' %name)\n",
    "\n",
    "g1=greenlet(eat)\n",
    "g2=greenlet(play)\n",
    "\n",
    "g1.switch('egon')#可以在第一次switch时传入参数，以后都不需要"
   ]
  },
  {
   "cell_type": "markdown",
   "metadata": {},
   "source": [
    "## 二、gevent模块"
   ]
  },
  {
   "cell_type": "markdown",
   "metadata": {},
   "source": [
    "## 三、asyncio"
   ]
  }
 ],
 "metadata": {
  "kernelspec": {
   "display_name": "Python 3",
   "language": "python",
   "name": "python3"
  },
  "language_info": {
   "codemirror_mode": {
    "name": "ipython",
    "version": 3
   },
   "file_extension": ".py",
   "mimetype": "text/x-python",
   "name": "python",
   "nbconvert_exporter": "python",
   "pygments_lexer": "ipython3",
   "version": "3.7.2"
  }
 },
 "nbformat": 4,
 "nbformat_minor": 2
}
